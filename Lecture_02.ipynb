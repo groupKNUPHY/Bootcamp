{
  "nbformat": 4,
  "nbformat_minor": 0,
  "metadata": {
    "colab": {
      "name": "Lecture_02.ipynb",
      "provenance": []
    },
    "kernelspec": {
      "name": "python3",
      "display_name": "Python 3"
    }
  },
  "cells": [
    {
      "cell_type": "code",
      "metadata": {
        "colab": {
          "base_uri": "https://localhost:8080/"
        },
        "id": "--6_Pgjh9VhL",
        "outputId": "fc92b268-4cfe-4000-9e56-6e389086ca02"
      },
      "source": [
        "!pip install uproot3\r\n",
        "!pip install uproot_methods\r\n",
        "!pip install mplhep"
      ],
      "execution_count": 1,
      "outputs": [
        {
          "output_type": "stream",
          "text": [
            "Requirement already satisfied: uproot3 in /usr/local/lib/python3.7/dist-packages (3.14.4)\n",
            "Requirement already satisfied: awkward0 in /usr/local/lib/python3.7/dist-packages (from uproot3) (0.15.5)\n",
            "Requirement already satisfied: uproot3-methods in /usr/local/lib/python3.7/dist-packages (from uproot3) (0.10.0)\n",
            "Requirement already satisfied: cachetools in /usr/local/lib/python3.7/dist-packages (from uproot3) (4.2.1)\n",
            "Requirement already satisfied: numpy>=1.13.1 in /usr/local/lib/python3.7/dist-packages (from uproot3) (1.19.5)\n",
            "Requirement already satisfied: uproot_methods in /usr/local/lib/python3.7/dist-packages (0.9.2)\n",
            "Requirement already satisfied: numpy>=1.13.1 in /usr/local/lib/python3.7/dist-packages (from uproot_methods) (1.19.5)\n",
            "Requirement already satisfied: awkward<1.0.0 in /usr/local/lib/python3.7/dist-packages (from uproot_methods) (0.14.0)\n",
            "Requirement already satisfied: mplhep in /usr/local/lib/python3.7/dist-packages (0.2.16)\n",
            "Requirement already satisfied: requests~=2.21 in /usr/local/lib/python3.7/dist-packages (from mplhep) (2.23.0)\n",
            "Requirement already satisfied: packaging in /usr/local/lib/python3.7/dist-packages (from mplhep) (20.9)\n",
            "Requirement already satisfied: matplotlib>=3.1 in /usr/local/lib/python3.7/dist-packages (from mplhep) (3.2.2)\n",
            "Requirement already satisfied: numpy>=1.16.0 in /usr/local/lib/python3.7/dist-packages (from mplhep) (1.19.5)\n",
            "Requirement already satisfied: scipy>=1.1.0 in /usr/local/lib/python3.7/dist-packages (from mplhep) (1.4.1)\n",
            "Requirement already satisfied: idna<3,>=2.5 in /usr/local/lib/python3.7/dist-packages (from requests~=2.21->mplhep) (2.10)\n",
            "Requirement already satisfied: certifi>=2017.4.17 in /usr/local/lib/python3.7/dist-packages (from requests~=2.21->mplhep) (2020.12.5)\n",
            "Requirement already satisfied: urllib3!=1.25.0,!=1.25.1,<1.26,>=1.21.1 in /usr/local/lib/python3.7/dist-packages (from requests~=2.21->mplhep) (1.24.3)\n",
            "Requirement already satisfied: chardet<4,>=3.0.2 in /usr/local/lib/python3.7/dist-packages (from requests~=2.21->mplhep) (3.0.4)\n",
            "Requirement already satisfied: pyparsing>=2.0.2 in /usr/local/lib/python3.7/dist-packages (from packaging->mplhep) (2.4.7)\n",
            "Requirement already satisfied: python-dateutil>=2.1 in /usr/local/lib/python3.7/dist-packages (from matplotlib>=3.1->mplhep) (2.8.1)\n",
            "Requirement already satisfied: cycler>=0.10 in /usr/local/lib/python3.7/dist-packages (from matplotlib>=3.1->mplhep) (0.10.0)\n",
            "Requirement already satisfied: kiwisolver>=1.0.1 in /usr/local/lib/python3.7/dist-packages (from matplotlib>=3.1->mplhep) (1.3.1)\n",
            "Requirement already satisfied: six>=1.5 in /usr/local/lib/python3.7/dist-packages (from python-dateutil>=2.1->matplotlib>=3.1->mplhep) (1.15.0)\n"
          ],
          "name": "stdout"
        }
      ]
    },
    {
      "cell_type": "code",
      "metadata": {
        "colab": {
          "base_uri": "https://localhost:8080/"
        },
        "id": "A4UuxMwA9aRF",
        "outputId": "6cb58167-bdd0-439e-890c-86ab249cc019"
      },
      "source": [
        "from google.colab import drive\r\n",
        "\r\n",
        "drive.mount('/content/drive')"
      ],
      "execution_count": 2,
      "outputs": [
        {
          "output_type": "stream",
          "text": [
            "Drive already mounted at /content/drive; to attempt to forcibly remount, call drive.mount(\"/content/drive\", force_remount=True).\n"
          ],
          "name": "stdout"
        }
      ]
    },
    {
      "cell_type": "code",
      "metadata": {
        "id": "NtU5Ver59l27"
      },
      "source": [
        "import uproot3 as ROOT\r\n",
        "import uproot_methods as ROOT_methods\r\n",
        "import numpy as np\r\n",
        "import matplotlib.pyplot as plt\r\n",
        "from matplotlib import rc\r\n",
        "from matplotlib import font_manager\r\n",
        "import mplhep as hep\r\n"
      ],
      "execution_count": 3,
      "outputs": []
    },
    {
      "cell_type": "code",
      "metadata": {
        "colab": {
          "base_uri": "https://localhost:8080/"
        },
        "id": "qmfAta8a4AIW",
        "outputId": "4f82ecd8-4554-44b5-8b8b-8599ee83173d"
      },
      "source": [
        "!ls drive/MyDrive/Event_Sample/BKG_Drellyan.root"
      ],
      "execution_count": 4,
      "outputs": [
        {
          "output_type": "stream",
          "text": [
            "drive/MyDrive/Event_Sample/BKG_Drellyan.root\n"
          ],
          "name": "stdout"
        }
      ]
    },
    {
      "cell_type": "code",
      "metadata": {
        "id": "SauQOCVl9rxL"
      },
      "source": [
        "# TTree를 읽어옵니다. 젠레벨 샘플을 활용할 경우 끝에 [\"Delphes\"] 가 아닌 [\"LHEF\"] 를 넣어주세요\r\n",
        "\r\n",
        "tree = ROOT.open(\"/content/drive/MyDrive/Event_Sample/BKG_Drellyan.root\")[\"Delphes\"]"
      ],
      "execution_count": 5,
      "outputs": []
    },
    {
      "cell_type": "code",
      "metadata": {
        "id": "-cwTDqtHuPmI"
      },
      "source": [
        "# 젠 레벨에서 pt, eta, phi를 따옵니다.\r\n",
        "# 어레이로 받아주는 방법은 전 시간과 마찬가지 입니다.\r\n",
        "\r\n",
        "pt = tree[\"Particle.PT\"].array()\r\n",
        "eta = tree[\"Particle.Eta\"].array()\r\n",
        "phi = tree[\"Particle.Phi\"].array()\r\n",
        "pid = tree[\"Particle.PID\"].array()\r\n",
        "status = tree[\"Particle.Status\"].array()\r\n"
      ],
      "execution_count": 6,
      "outputs": []
    },
    {
      "cell_type": "code",
      "metadata": {
        "id": "e6_SGdSsuY7A"
      },
      "source": [
        "# 최종상태의 전자와, 양전자를 골라주는 마스크를 만들어줍니다.\r\n",
        "# 이해가 잘 안된다면 전 시간 자료를 참고하세요.\r\n",
        "\r\n",
        "nege = (pid == 11) & (status == 1)\r\n",
        "pose = (pid == -11) & (status == 1)"
      ],
      "execution_count": 7,
      "outputs": []
    },
    {
      "cell_type": "code",
      "metadata": {
        "id": "JSORqRHv75EW"
      },
      "source": [
        "# 전자 마스크\r\n",
        "\r\n",
        "pt_nege = pt[nege]\r\n",
        "eta_nege = eta[nege]\r\n",
        "phi_nege = phi[nege]"
      ],
      "execution_count": 8,
      "outputs": []
    },
    {
      "cell_type": "code",
      "metadata": {
        "id": "lA2FxfKUvBEE"
      },
      "source": [
        "# 양전자 마스크\r\n",
        "\r\n",
        "pt_pose = pt[pose]\r\n",
        "eta_pose = eta[pose]\r\n",
        "phi_pose = phi[pose]"
      ],
      "execution_count": 9,
      "outputs": []
    },
    {
      "cell_type": "code",
      "metadata": {
        "id": "oDzTbFZd1Uyq"
      },
      "source": [
        "# 새 배열을 선언한 후 두 전자의 정지질량을 계산합니다.\r\n",
        "# 공식은 위키피디아에서 쉽게 찾을 수 있습니다.\r\n",
        "\r\n",
        "dilepton_mass = []\r\n",
        "for i in range(len(pt)):\r\n",
        "  if pt_nege.counts[i] == 1:\r\n",
        "    if pt_pose.counts[i] == 1:\r\n",
        "      dilepton_mass.append(np.sqrt(2*pt_pose[i]*pt_nege[i]*(np.cosh(eta_pose[i] - eta_nege[i]) - np.cos(phi_pose[i] - phi_nege[i]))))"
      ],
      "execution_count": 10,
      "outputs": []
    },
    {
      "cell_type": "code",
      "metadata": {
        "id": "LBqofc6G2tMP"
      },
      "source": [
        "# 배열을 numpy 모듈로 평평하게 해줍니다.\r\n",
        "\r\n",
        "dilepton_mass = np.array(dilepton_mass).flatten()"
      ],
      "execution_count": 11,
      "outputs": []
    },
    {
      "cell_type": "code",
      "metadata": {
        "colab": {
          "base_uri": "https://localhost:8080/",
          "height": 265
        },
        "id": "ukS1f1jP5FLP",
        "outputId": "f3b13222-9caf-4181-e3bf-661549d73573"
      },
      "source": [
        "## 뽑아온 친구들로 두 전자의 정지질량의 히스토그람을 작성합시다.\r\n",
        "\r\n",
        "plt.hist(dilepton_mass,bins=150,range=(0,150),color='blue',histtype='step')\r\n",
        "plt.xlim(0,150)\r\n",
        "plt.show()"
      ],
      "execution_count": 12,
      "outputs": [
        {
          "output_type": "display_data",
          "data": {
            "image/png": "[encoded data removed]",
            "text/plain": [
              "<Figure size 432x288 with 1 Axes>"
            ]
          },
          "metadata": {
            "tags": [],
            "needs_background": "light"
          }
        }
      ]
    },
    {
      "cell_type": "code",
      "metadata": {
        "id": "7Ipa9Oil5Gan"
      },
      "source": [
        "## HOMEWORK\r\n",
        "# Q1. for 문을 사용한 이유에 대해서 생각해보세요.\r\n",
        "# hint : 전자와 양전자의 pt array(아무거나 상관없음) 를 직접 출력해보세요.\r\n",
        "\r\n",
        "\r\n"
      ],
      "execution_count": 13,
      "outputs": []
    },
    {
      "cell_type": "code",
      "metadata": {
        "id": "6XSQOZhB7Kbn"
      },
      "source": [
        "# Q2. 히스토그램의 분포가 무엇을 의미하는지 설명하세요.\r\n",
        "# hint : 우리가 구한것은 dilepton의 질량입니다. 이것을 왜 구하는 걸까요?\r\n",
        "\r\n"
      ],
      "execution_count": 15,
      "outputs": []
    },
    {
      "cell_type": "code",
      "metadata": {
        "id": "JftooV7k0bWO"
      },
      "source": [
        "# Q3. 전자- 전자 채널이 아닌 뮤온- 뮤온 채널에서 dilepton의 mass를 구해보세요.\r\n",
        "# hint : PID\r\n",
        "\r\n"
      ],
      "execution_count": 16,
      "outputs": []
    },
    {
      "cell_type": "code",
      "metadata": {
        "id": "wjBttkUs69pX"
      },
      "source": [
        "## APPENDIX ##\r\n",
        "\r\n",
        "## STANDARD MODEL PID NUMBERING SCHEME\r\n",
        "#\r\n",
        "#  QUARKS         ANTIQUARKS\r\n",
        "#  d = 1\t  d~ = -1\r\n",
        "#  u = 2\t  u~ = -2\r\n",
        "#  s = 3\t  s~ = -3\r\n",
        "#  c = 4\t  c~ = -4\r\n",
        "#  b = 5\t  b~ = -5\r\n",
        "#  t = 6\t  t~ = -6\r\n",
        "#\r\n",
        "#  LEPTONS        ANTILEPTONS\r\n",
        "#  e-  = 11\t  e+  = -11\r\n",
        "#  ve  = 12\t  ve~ = -12\r\n",
        "#  mu- = 13\t  mu+ = -13\r\n",
        "#  vu  = 14\t  vu~ = -14\r\n",
        "#  ta- = 15\t  ta+ = -15\r\n",
        "#  vt  = 16\t  vt~ = -16\r\n",
        "#\r\n",
        "#  BOSONS\r\n",
        "#  g  =  21\r\n",
        "#  a  =  22\r\n",
        "#  z  =  23\r\n",
        "#  w+ =  24\r\n",
        "#  w- = -24\r\n",
        "#\r\n",
        "## END OF TABLE "
      ],
      "execution_count": 17,
      "outputs": []
    },
    {
      "cell_type": "code",
      "metadata": {
        "id": "tEtvNkND6-I-"
      },
      "source": [
        ""
      ],
      "execution_count": null,
      "outputs": []
    }
  ]
}