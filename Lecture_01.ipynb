{
  "nbformat": 4,
  "nbformat_minor": 0,
  "metadata": {
    "colab": {
      "name": "Lecture_01.ipynb",
      "provenance": []
    },
    "kernelspec": {
      "name": "python3",
      "display_name": "Python 3"
    }
  },
  "cells": [
    {
      "cell_type": "code",
      "metadata": {
        "colab": {
          "base_uri": "https://localhost:8080/"
        },
        "id": "--6_Pgjh9VhL",
        "outputId": "b57fbbd3-7363-4a67-f800-466a28b699a0"
      },
      "source": [
        "!pip install uproot3\r\n",
        "!pip install uproot_methods\r\n",
        "!pip install mplhep\r\n",
        "!pip install awkward"
      ],
      "execution_count": null,
      "outputs": [
        {
          "output_type": "stream",
          "text": [
            "Collecting uproot3\n",
            "\u001b[?25l  Downloading https://files.pythonhosted.org/packages/9c/69/d893c6eba0dd0d8f82d841d4b85b6e63c52a1b472aec7cf7ae0efedf5a92/uproot3-3.14.4-py3-none-any.whl (117kB)\n",
            "\u001b[K     |████████████████████████████████| 122kB 9.1MB/s \n",
            "\u001b[?25hCollecting awkward0\n",
            "\u001b[?25l  Downloading https://files.pythonhosted.org/packages/9a/b3/376b258ea021eed2c9bdaa1011e0f7b25365157de472d9fae8a2443d9ff5/awkward0-0.15.5-py3-none-any.whl (87kB)\n",
            "\u001b[K     |████████████████████████████████| 92kB 6.5MB/s \n",
            "\u001b[?25hCollecting uproot3-methods\n",
            "  Downloading https://files.pythonhosted.org/packages/b7/bc/0cc6e815361218923dc27e8f511036d6d96ab366ea25994a89ac9ac9ba6f/uproot3_methods-0.10.0-py3-none-any.whl\n",
            "Requirement already satisfied: numpy>=1.13.1 in /usr/local/lib/python3.7/dist-packages (from uproot3) (1.19.5)\n",
            "Requirement already satisfied: cachetools in /usr/local/lib/python3.7/dist-packages (from uproot3) (4.2.1)\n",
            "Installing collected packages: awkward0, uproot3-methods, uproot3\n",
            "Successfully installed awkward0-0.15.5 uproot3-3.14.4 uproot3-methods-0.10.0\n",
            "Collecting uproot_methods\n",
            "  Downloading https://files.pythonhosted.org/packages/b8/30/adff74a02641901dfaad01e8ad66abcf43e94fc72661ef1ee4e55a5162b5/uproot_methods-0.9.2-py3-none-any.whl\n",
            "Collecting awkward<1.0.0\n",
            "\u001b[?25l  Downloading https://files.pythonhosted.org/packages/4b/ca/322dd25b102b03a0d8fefba037358a716e7ba2117b65839479071445a617/awkward-0.14.0-py2.py3-none-any.whl (87kB)\n",
            "\u001b[K     |████████████████████████████████| 92kB 6.4MB/s \n",
            "\u001b[?25hRequirement already satisfied: numpy>=1.13.1 in /usr/local/lib/python3.7/dist-packages (from uproot_methods) (1.19.5)\n",
            "Installing collected packages: awkward, uproot-methods\n",
            "Successfully installed awkward-0.14.0 uproot-methods-0.9.2\n",
            "Collecting mplhep\n",
            "\u001b[?25l  Downloading https://files.pythonhosted.org/packages/ae/82/d767b9d94ef78da4359544712c6ccbe01375abb50ea25ae42f5daf9d7005/mplhep-0.2.16-py3-none-any.whl (5.4MB)\n",
            "\u001b[K     |████████████████████████████████| 5.5MB 7.3MB/s \n",
            "\u001b[?25hRequirement already satisfied: matplotlib>=3.1 in /usr/local/lib/python3.7/dist-packages (from mplhep) (3.2.2)\n",
            "Requirement already satisfied: requests~=2.21 in /usr/local/lib/python3.7/dist-packages (from mplhep) (2.23.0)\n",
            "Requirement already satisfied: packaging in /usr/local/lib/python3.7/dist-packages (from mplhep) (20.9)\n",
            "Requirement already satisfied: numpy>=1.16.0 in /usr/local/lib/python3.7/dist-packages (from mplhep) (1.19.5)\n",
            "Requirement already satisfied: scipy>=1.1.0 in /usr/local/lib/python3.7/dist-packages (from mplhep) (1.4.1)\n",
            "Requirement already satisfied: cycler>=0.10 in /usr/local/lib/python3.7/dist-packages (from matplotlib>=3.1->mplhep) (0.10.0)\n",
            "Requirement already satisfied: python-dateutil>=2.1 in /usr/local/lib/python3.7/dist-packages (from matplotlib>=3.1->mplhep) (2.8.1)\n",
            "Requirement already satisfied: kiwisolver>=1.0.1 in /usr/local/lib/python3.7/dist-packages (from matplotlib>=3.1->mplhep) (1.3.1)\n",
            "Requirement already satisfied: pyparsing!=2.0.4,!=2.1.2,!=2.1.6,>=2.0.1 in /usr/local/lib/python3.7/dist-packages (from matplotlib>=3.1->mplhep) (2.4.7)\n",
            "Requirement already satisfied: certifi>=2017.4.17 in /usr/local/lib/python3.7/dist-packages (from requests~=2.21->mplhep) (2020.12.5)\n",
            "Requirement already satisfied: chardet<4,>=3.0.2 in /usr/local/lib/python3.7/dist-packages (from requests~=2.21->mplhep) (3.0.4)\n",
            "Requirement already satisfied: urllib3!=1.25.0,!=1.25.1,<1.26,>=1.21.1 in /usr/local/lib/python3.7/dist-packages (from requests~=2.21->mplhep) (1.24.3)\n",
            "Requirement already satisfied: idna<3,>=2.5 in /usr/local/lib/python3.7/dist-packages (from requests~=2.21->mplhep) (2.10)\n",
            "Requirement already satisfied: six in /usr/local/lib/python3.7/dist-packages (from cycler>=0.10->matplotlib>=3.1->mplhep) (1.15.0)\n",
            "Installing collected packages: mplhep\n",
            "Successfully installed mplhep-0.2.16\n",
            "Requirement already satisfied: awkward in /usr/local/lib/python3.7/dist-packages (0.14.0)\n",
            "Requirement already satisfied: numpy>=1.13.1 in /usr/local/lib/python3.7/dist-packages (from awkward) (1.19.5)\n"
          ],
          "name": "stdout"
        }
      ]
    },
    {
      "cell_type": "code",
      "metadata": {
        "colab": {
          "base_uri": "https://localhost:8080/"
        },
        "id": "A4UuxMwA9aRF",
        "outputId": "346de5a9-8fc2-42c8-d974-42794d99de07"
      },
      "source": [
        "from google.colab import drive\r\n",
        "\r\n",
        "drive.mount('/content/drive')"
      ],
      "execution_count": null,
      "outputs": [
        {
          "output_type": "stream",
          "text": [
            "Mounted at /content/drive\n"
          ],
          "name": "stdout"
        }
      ]
    },
    {
      "cell_type": "code",
      "metadata": {
        "id": "NtU5Ver59l27"
      },
      "source": [
        "import uproot3 as ROOT\r\n",
        "import awkward as ak\r\n",
        "import uproot_methods as upm\r\n",
        "import numpy as np\r\n",
        "\r\n",
        "import matplotlib.pyplot as plt\r\n",
        "from matplotlib import rc\r\n",
        "from matplotlib import font_manager\r\n",
        "import mplhep as hep\r\n"
      ],
      "execution_count": null,
      "outputs": []
    },
    {
      "cell_type": "code",
      "metadata": {
        "colab": {
          "base_uri": "https://localhost:8080/"
        },
        "id": "qmfAta8a4AIW",
        "outputId": "ca5cb9d8-d463-42b5-f507-f913f84af65a"
      },
      "source": [
        "!ls drive/MyDrive/Event_Sample/BKG_Drellyan.root"
      ],
      "execution_count": null,
      "outputs": [
        {
          "output_type": "stream",
          "text": [
            "drive/MyDrive/Event_Sample/BKG_Drellyan.root\n"
          ],
          "name": "stdout"
        }
      ]
    },
    {
      "cell_type": "code",
      "metadata": {
        "id": "SauQOCVl9rxL"
      },
      "source": [
        "tree = ROOT.open(\"/content/drive/MyDrive/Event_Sample/BKG_Drellyan.root\")[\"Delphes\"]"
      ],
      "execution_count": null,
      "outputs": []
    },
    {
      "cell_type": "code",
      "metadata": {
        "id": "-cwTDqtHuPmI"
      },
      "source": [
        "# 젠 레벨에서의 pt pid status를 따옵니다.\r\n",
        "# 어레이로 받아주는 방법은 다음과 같습니다. 다른 방법을 활용해도 좋습니다.\r\n",
        "# e.g. x = tree.array(\"Particle.PT\")\r\n",
        "\r\n",
        "pt = tree[\"Particle.PT\"].array()\r\n",
        "pid = tree[\"Particle.PID\"].array()\r\n",
        "status = tree[\"Particle.Status\"].array()"
      ],
      "execution_count": null,
      "outputs": []
    },
    {
      "cell_type": "code",
      "metadata": {
        "colab": {
          "base_uri": "https://localhost:8080/"
        },
        "id": "e6_SGdSsuY7A",
        "outputId": "48c39f54-36e4-42cf-9201-2768ca9546b7"
      },
      "source": [
        "# 볼까요?\r\n",
        "# 구조는 [[] [] [] ... [] [] []] 같이 생겼습니다. 어레이 안에 어레이가 있습니다.\r\n",
        "# 각 내부 어레이는 하나의 이벤트를 의미합니다.\r\n",
        "\r\n",
        "print(pt)\r\n",
        "print(pid)\r\n",
        "print(status)"
      ],
      "execution_count": null,
      "outputs": [
        {
          "output_type": "stream",
          "text": [
            "[[0.0 0.0 12.149044 ... 0.15879026 0.14823811 0.051475085] [0.0 0.0 9.876939 ... 0.06706651 0.18385379 0.24764884] [0.0 0.0 7.3751583 ... 0.02479093 0.6794866 0.090890765] ... [0.0 12.390335 0.0 ... 0.31962484 4.1192417 1.1827693] [0.0 0.0 5.463041 ... 0.20479222 0.66665006 0.18559365] [0.0 0.0 2.3429263 ... 0.30875343 1.3786601 0.14321242]]\n",
            "[[21 2 -2 ... -211 -2212 211] [-3 21 1 ... -211 22 22] [2 21 21 ... 111 -2112 111] ... [21 21 2 ... -211 211 -211] [21 2 21 ... -211 2112 111] [1 21 21 ... 111 -2112 111]]\n",
            "[[21 21 43 ... 1 1 1] [21 21 43 ... 1 1 1] [21 21 43 ... 1 1 1] ... [21 43 21 ... 1 1 1] [21 21 43 ... 1 1 1] [21 21 43 ... 1 1 1]]\n"
          ],
          "name": "stdout"
        }
      ]
    },
    {
      "cell_type": "code",
      "metadata": {
        "id": "JSORqRHv75EW"
      },
      "source": [
        ""
      ],
      "execution_count": null,
      "outputs": []
    },
    {
      "cell_type": "code",
      "metadata": {
        "id": "lA2FxfKUvBEE"
      },
      "source": [
        "# 마스크는 조건식입니다.\r\n",
        "# 마스크는 다음과 같이 조건, and, or 연산자로 구성할 수 있습니다.\r\n",
        "# 아래의 조건은 pid가 플마11이고 status가 1인 최종상태 전자 골라내기 마스크와\r\n",
        "# pid가 플마 13이고 status가 1인 최종상태 뮤온 골라내기 마스크입니다.\r\n",
        "\r\n",
        "e_mask = ((pid == 11) & (status == 1)) | ((pid == -11) & (status == 1))\r\n",
        "u_mask = ((pid == 13) & (status == 1)) | ((pid == -13) & (status == 1))"
      ],
      "execution_count": null,
      "outputs": []
    },
    {
      "cell_type": "code",
      "metadata": {
        "id": "MXgrG6egvDdM",
        "colab": {
          "base_uri": "https://localhost:8080/"
        },
        "outputId": "a9140895-1cca-4691-9e66-4d420352882a"
      },
      "source": [
        "# 이와 같은 배열을 불린 어레이라고 합니다.\r\n",
        "# 불린 어레이는 정수형 자료형이고 0과 1로 구성되어있습니다. 0 = False, 1 = True\r\n",
        "\r\n",
        "print(e_mask)\r\n",
        "print(u_mask)"
      ],
      "execution_count": null,
      "outputs": [
        {
          "output_type": "stream",
          "text": [
            "[[False False False ... False False False] [False False False ... False False False] [False False False ... False False False] ... [False False False ... False False False] [False False False ... False False False] [False False False ... False False False]]\n",
            "[[False False False ... False False False] [False False False ... False False False] [False False False ... False False False] ... [False False False ... False False False] [False False False ... False False False] [False False False ... False False False]]\n"
          ],
          "name": "stdout"
        }
      ]
    },
    {
      "cell_type": "code",
      "metadata": {
        "id": "LarkKk7W5BOf"
      },
      "source": [
        "# 우리가 그리고자 하는 물리량에 마스크를 씌워 평평하게 해줍니다.\r\n",
        "# 평평하게 안하면? 어떻게될까?\r\n",
        "\r\n",
        "elec_pt = pt[e_mask].flatten()\r\n",
        "muon_pt = pt[u_mask].flatten()"
      ],
      "execution_count": null,
      "outputs": []
    },
    {
      "cell_type": "code",
      "metadata": {
        "colab": {
          "base_uri": "https://localhost:8080/",
          "height": 265
        },
        "id": "ukS1f1jP5FLP",
        "outputId": "8de549a7-ba2f-4a18-eeb5-464352c88818"
      },
      "source": [
        "## 뽑아온 친구들로 전자와 뮤온의 횡단 운동량의 히스토그람을 작성합시다.\r\n",
        "\r\n",
        "plt.hist(elec_pt,bins=30,range=(0,300),color='blue',histtype='step')\r\n",
        "plt.hist(muon_pt,bins=30,range=(0,300),color='red',histtype='step')\r\n",
        "plt.xlim(0,300)\r\n",
        "plt.show()"
      ],
      "execution_count": null,
      "outputs": [
        {
          "output_type": "display_data",
          "data": {
            "image/png": "[encoded data removed]",
            "text/plain": [
              "<Figure size 432x288 with 1 Axes>"
            ]
          },
          "metadata": {
            "tags": [],
            "needs_background": "light"
          }
        }
      ]
    },
    {
      "cell_type": "code",
      "metadata": {
        "id": "7Ipa9Oil5Gan"
      },
      "source": [
        "## HOMEWORK\r\n",
        "# Q1. 최종상태의 전자와 뮤온의 방위각 분포를 각각 히스토그램으로 그려보세요.\r\n",
        "# hint : Particle.Phi 를 이용하세요.\r\n",
        "\r\n",
        "\r\n"
      ],
      "execution_count": null,
      "outputs": []
    },
    {
      "cell_type": "code",
      "metadata": {
        "id": "6XSQOZhB7Kbn"
      },
      "source": [
        "# Q2. APPENDIX 를 참고해서 광자 혹은 Z 보존의 질량 분포를 히스토그램으로 그려보세요.\r\n",
        "# hint1 : Particel.PID, Particle.M 을 활용하세요.\r\n",
        "# hint2 : Particle.Status 는 이용하지 마세요.\r\n",
        "\r\n",
        "\r\n"
      ],
      "execution_count": null,
      "outputs": []
    },
    {
      "cell_type": "code",
      "metadata": {
        "id": "wjBttkUs69pX"
      },
      "source": [
        "## APPENDIX ##\r\n",
        "\r\n",
        "## STANDARD MODEL PID NUMBERING SCHEME\r\n",
        "#\r\n",
        "#  QUARKS         ANTIQUARKS\r\n",
        "#  d = 1\t  d~ = -1\r\n",
        "#  u = 2\t  u~ = -2\r\n",
        "#  s = 3\t  s~ = -3\r\n",
        "#  c = 4\t  c~ = -4\r\n",
        "#  b = 5\t  b~ = -5\r\n",
        "#  t = 6\t  t~ = -6\r\n",
        "#\r\n",
        "#  LEPTONS        ANTILEPTONS\r\n",
        "#  e-  = 11\t  e+  = -11\r\n",
        "#  ve  = 12\t  ve~ = -12\r\n",
        "#  mu- = 13\t  mu+ = -13\r\n",
        "#  vu  = 14\t  vu~ = -14\r\n",
        "#  ta- = 15\t  ta+ = -15\r\n",
        "#  vt  = 16\t  vt~ = -16\r\n",
        "#\r\n",
        "#  BOSONS\r\n",
        "#  g  =  21\r\n",
        "#  a  =  22\r\n",
        "#  z  =  23\r\n",
        "#  w+ =  24\r\n",
        "#  w- = -24\r\n",
        "#\r\n",
        "## END OF TABLE "
      ],
      "execution_count": null,
      "outputs": []
    },
    {
      "cell_type": "code",
      "metadata": {
        "id": "tEtvNkND6-I-"
      },
      "source": [
        ""
      ],
      "execution_count": null,
      "outputs": []
    }
  ]
}