{
  "nbformat": 4,
  "nbformat_minor": 0,
  "metadata": {
    "colab": {
      "name": "Lecture_03.ipynb",
      "provenance": []
    },
    "kernelspec": {
      "name": "python3",
      "display_name": "Python 3"
    }
  },
  "cells": [
    {
      "cell_type": "code",
      "metadata": {
        "colab": {
          "base_uri": "https://localhost:8080/"
        },
        "id": "--6_Pgjh9VhL",
        "outputId": "d668cbe5-7e30-4f49-f4c2-cb1179aed39b"
      },
      "source": [
        "!pip install uproot3\r\n",
        "!pip install uproot_methods\r\n",
        "!pip install mplhep"
      ],
      "execution_count": 1,
      "outputs": [
        {
          "output_type": "stream",
          "text": [
            "Requirement already satisfied: uproot3 in /usr/local/lib/python3.7/dist-packages (3.14.4)\n",
            "Requirement already satisfied: numpy>=1.13.1 in /usr/local/lib/python3.7/dist-packages (from uproot3) (1.19.5)\n",
            "Requirement already satisfied: cachetools in /usr/local/lib/python3.7/dist-packages (from uproot3) (4.2.1)\n",
            "Requirement already satisfied: uproot3-methods in /usr/local/lib/python3.7/dist-packages (from uproot3) (0.10.0)\n",
            "Requirement already satisfied: awkward0 in /usr/local/lib/python3.7/dist-packages (from uproot3) (0.15.5)\n",
            "Requirement already satisfied: uproot_methods in /usr/local/lib/python3.7/dist-packages (0.9.2)\n",
            "Requirement already satisfied: awkward<1.0.0 in /usr/local/lib/python3.7/dist-packages (from uproot_methods) (0.14.0)\n",
            "Requirement already satisfied: numpy>=1.13.1 in /usr/local/lib/python3.7/dist-packages (from uproot_methods) (1.19.5)\n",
            "Requirement already satisfied: mplhep in /usr/local/lib/python3.7/dist-packages (0.2.16)\n",
            "Requirement already satisfied: requests~=2.21 in /usr/local/lib/python3.7/dist-packages (from mplhep) (2.23.0)\n",
            "Requirement already satisfied: numpy>=1.16.0 in /usr/local/lib/python3.7/dist-packages (from mplhep) (1.19.5)\n",
            "Requirement already satisfied: matplotlib>=3.1 in /usr/local/lib/python3.7/dist-packages (from mplhep) (3.2.2)\n",
            "Requirement already satisfied: scipy>=1.1.0 in /usr/local/lib/python3.7/dist-packages (from mplhep) (1.4.1)\n",
            "Requirement already satisfied: packaging in /usr/local/lib/python3.7/dist-packages (from mplhep) (20.9)\n",
            "Requirement already satisfied: certifi>=2017.4.17 in /usr/local/lib/python3.7/dist-packages (from requests~=2.21->mplhep) (2020.12.5)\n",
            "Requirement already satisfied: chardet<4,>=3.0.2 in /usr/local/lib/python3.7/dist-packages (from requests~=2.21->mplhep) (3.0.4)\n",
            "Requirement already satisfied: urllib3!=1.25.0,!=1.25.1,<1.26,>=1.21.1 in /usr/local/lib/python3.7/dist-packages (from requests~=2.21->mplhep) (1.24.3)\n",
            "Requirement already satisfied: idna<3,>=2.5 in /usr/local/lib/python3.7/dist-packages (from requests~=2.21->mplhep) (2.10)\n",
            "Requirement already satisfied: kiwisolver>=1.0.1 in /usr/local/lib/python3.7/dist-packages (from matplotlib>=3.1->mplhep) (1.3.1)\n",
            "Requirement already satisfied: cycler>=0.10 in /usr/local/lib/python3.7/dist-packages (from matplotlib>=3.1->mplhep) (0.10.0)\n",
            "Requirement already satisfied: python-dateutil>=2.1 in /usr/local/lib/python3.7/dist-packages (from matplotlib>=3.1->mplhep) (2.8.1)\n",
            "Requirement already satisfied: pyparsing!=2.0.4,!=2.1.2,!=2.1.6,>=2.0.1 in /usr/local/lib/python3.7/dist-packages (from matplotlib>=3.1->mplhep) (2.4.7)\n",
            "Requirement already satisfied: six in /usr/local/lib/python3.7/dist-packages (from cycler>=0.10->matplotlib>=3.1->mplhep) (1.15.0)\n"
          ],
          "name": "stdout"
        }
      ]
    },
    {
      "cell_type": "code",
      "metadata": {
        "colab": {
          "base_uri": "https://localhost:8080/"
        },
        "id": "A4UuxMwA9aRF",
        "outputId": "4a137e6b-ef70-414d-f4c7-905193e7a856"
      },
      "source": [
        "from google.colab import drive\r\n",
        "\r\n",
        "drive.mount('/content/drive')"
      ],
      "execution_count": 2,
      "outputs": [
        {
          "output_type": "stream",
          "text": [
            "Drive already mounted at /content/drive; to attempt to forcibly remount, call drive.mount(\"/content/drive\", force_remount=True).\n"
          ],
          "name": "stdout"
        }
      ]
    },
    {
      "cell_type": "code",
      "metadata": {
        "id": "NtU5Ver59l27"
      },
      "source": [
        "import uproot3 as ROOT\r\n",
        "import uproot_methods as ROOT_methods\r\n",
        "import numpy as np\r\n",
        "import matplotlib.pyplot as plt\r\n",
        "from matplotlib import rc\r\n",
        "from matplotlib import font_manager\r\n",
        "import mplhep as hep\r\n"
      ],
      "execution_count": 3,
      "outputs": []
    },
    {
      "cell_type": "code",
      "metadata": {
        "colab": {
          "base_uri": "https://localhost:8080/"
        },
        "id": "qmfAta8a4AIW",
        "outputId": "72ac74e8-fc33-4918-800d-224a2a70610d"
      },
      "source": [
        "!ls drive/MyDrive/Event_Sample/BKG_Drellyan.root"
      ],
      "execution_count": 4,
      "outputs": [
        {
          "output_type": "stream",
          "text": [
            "drive/MyDrive/Event_Sample/BKG_Drellyan.root\n"
          ],
          "name": "stdout"
        }
      ]
    },
    {
      "cell_type": "markdown",
      "metadata": {
        "id": "FFZfD5QahYow"
      },
      "source": [
        "이번 시간에는 지난 시간에 그린 두 전자의 질량과 Z 보존의 질량을 비교할 것입니다.\r\n",
        "아래의 코드는 지난 시간과 동일합니다."
      ]
    },
    {
      "cell_type": "code",
      "metadata": {
        "id": "SauQOCVl9rxL"
      },
      "source": [
        "# TTree를 읽어옵니다. 젠레벨 샘플을 활용할 경우 끝에 [\"Delphes\"] 가 아닌 [\"LHEF\"] 를 넣어주세요\r\n",
        "\r\n",
        "tree = ROOT.open(\"/content/drive/MyDrive/Event_Sample/BKG_Drellyan.root\")[\"Delphes\"]"
      ],
      "execution_count": 5,
      "outputs": []
    },
    {
      "cell_type": "code",
      "metadata": {
        "id": "-cwTDqtHuPmI"
      },
      "source": [
        "# 젠 레벨에서 pt, eta, phi를 따옵니다.\r\n",
        "# 어레이로 받아주는 방법은 전 시간과 마찬가지 입니다.\r\n",
        "\r\n",
        "pt = tree[\"Particle.PT\"].array()\r\n",
        "eta = tree[\"Particle.Eta\"].array()\r\n",
        "phi = tree[\"Particle.Phi\"].array()\r\n",
        "pid = tree[\"Particle.PID\"].array()\r\n",
        "status = tree[\"Particle.Status\"].array()\r\n",
        "\r\n",
        "# 이번 시간에는 Z 보존의 질량을 따오기 위해 Particle.M 을 어레이로 받아줍니다.\r\n",
        "\r\n",
        "mass = tree[\"Particle.Mass\"].array()"
      ],
      "execution_count": 6,
      "outputs": []
    },
    {
      "cell_type": "code",
      "metadata": {
        "id": "e6_SGdSsuY7A"
      },
      "source": [
        "# 최종상태의 전자와, 양전자를 골라주는 마스크를 만들어줍니다.\r\n",
        "# 이해가 잘 안된다면 전 시간 자료를 참고하세요.\r\n",
        "\r\n",
        "nege = (pid == 11) & (status == 1)\r\n",
        "pose = (pid == -11) & (status == 1)"
      ],
      "execution_count": 7,
      "outputs": []
    },
    {
      "cell_type": "code",
      "metadata": {
        "id": "JSORqRHv75EW"
      },
      "source": [
        "# 전자 마스크\r\n",
        "\r\n",
        "pt_nege = pt[nege]\r\n",
        "eta_nege = eta[nege]\r\n",
        "phi_nege = phi[nege]"
      ],
      "execution_count": 8,
      "outputs": []
    },
    {
      "cell_type": "code",
      "metadata": {
        "id": "lA2FxfKUvBEE"
      },
      "source": [
        "# 양전자 마스크\r\n",
        "\r\n",
        "pt_pose = pt[pose]\r\n",
        "eta_pose = eta[pose]\r\n",
        "phi_pose = phi[pose]"
      ],
      "execution_count": 9,
      "outputs": []
    },
    {
      "cell_type": "code",
      "metadata": {
        "id": "oDzTbFZd1Uyq"
      },
      "source": [
        "# 새 배열을 선언한 후 두 전자의 정지질량을 계산합니다.\r\n",
        "# 공식은 위키피디아에서 쉽게 찾을 수 있습니다.\r\n",
        "\r\n",
        "dilepton_mass = []\r\n",
        "for i in range(len(pt)):\r\n",
        "  if pt_nege.counts[i] == 1:\r\n",
        "    if pt_pose.counts[i] == 1:\r\n",
        "      dilepton_mass.append(np.sqrt(2*pt_pose[i]*pt_nege[i]*(np.cosh(eta_pose[i] - eta_nege[i]) - np.cos(phi_pose[i] - phi_nege[i]))))"
      ],
      "execution_count": 10,
      "outputs": []
    },
    {
      "cell_type": "code",
      "metadata": {
        "id": "LBqofc6G2tMP"
      },
      "source": [
        "# 배열을 numpy 모듈로 평평하게 해줍니다.\r\n",
        "\r\n",
        "dilepton_mass = np.array(dilepton_mass).flatten()"
      ],
      "execution_count": 11,
      "outputs": []
    },
    {
      "cell_type": "code",
      "metadata": {
        "id": "sZ6dFjwKhrWg"
      },
      "source": [
        "# Z 보존의 질량을 구해봅시다.\r\n",
        "\r\n",
        "zmask = (pid == 23)\r\n",
        "z_mass = mass[zmask].flatten()"
      ],
      "execution_count": 12,
      "outputs": []
    },
    {
      "cell_type": "code",
      "metadata": {
        "colab": {
          "base_uri": "https://localhost:8080/",
          "height": 265
        },
        "id": "ukS1f1jP5FLP",
        "outputId": "24c425d5-d9dd-487d-b7a9-b8ec5c962483"
      },
      "source": [
        "## 뽑아온 친구들로 두 전자의 정지질량의 히스토그람을 작성합시다.\r\n",
        "\r\n",
        "plt.hist(dilepton_mass,bins=150,range=(0,150),color='blue',histtype='step')\r\n",
        "plt.hist(z_mass,bins=150,range=(0,150),color='red',histtype='step')\r\n",
        "plt.xlim(0,150)\r\n",
        "plt.show()"
      ],
      "execution_count": 13,
      "outputs": [
        {
          "output_type": "display_data",
          "data": {
            "image/png": "[encoded data removed]",
            "text/plain": [
              "<Figure size 432x288 with 1 Axes>"
            ]
          },
          "metadata": {
            "tags": [],
            "needs_background": "light"
          }
        }
      ]
    },
    {
      "cell_type": "code",
      "metadata": {
        "id": "7Ipa9Oil5Gan"
      },
      "source": [
        "## HOMEWORK\r\n",
        "# Q1. 이 분석에서 z_mass와 dilepton_mass 분포의 수 차이가 발생하는 이유는 무엇일까요?\r\n",
        "# hint : 자유롭게 생각해 보세요.\r\n",
        "\r\n",
        "\r\n"
      ],
      "execution_count": 14,
      "outputs": []
    },
    {
      "cell_type": "code",
      "metadata": {
        "id": "6XSQOZhB7Kbn"
      },
      "source": [
        "# Q2. 전자-전자 채널과  뮤온-뮤온 채널을 병합해보세요.\r\n",
        "# hint : 쉬움\r\n",
        "\r\n"
      ],
      "execution_count": 15,
      "outputs": []
    },
    {
      "cell_type": "code",
      "metadata": {
        "id": "JftooV7k0bWO"
      },
      "source": [
        "# Q3. 병합한 결과의 사건 수와 z 보존의 숫자를 확인해보세요.\r\n",
        "# hint : print(len(dilepton_mass))\r\n",
        "\r\n"
      ],
      "execution_count": 16,
      "outputs": []
    },
    {
      "cell_type": "code",
      "metadata": {
        "id": "3kYg5AJSi1TI"
      },
      "source": [
        "# Q5. 이제 여러분들은 입자물리학실험에서 Z 보존을 식별하고 찾아낼 수 있습니다. 이 분석 결과를 CMS 혹은 ATLAS의 결과와 비교해보세요.\r\n"
      ],
      "execution_count": 17,
      "outputs": []
    },
    {
      "cell_type": "code",
      "metadata": {
        "id": "wjBttkUs69pX"
      },
      "source": [
        "## APPENDIX ##\r\n",
        "\r\n",
        "## STANDARD MODEL PID NUMBERING SCHEME\r\n",
        "#\r\n",
        "#  QUARKS         ANTIQUARKS\r\n",
        "#  d = 1\t  d~ = -1\r\n",
        "#  u = 2\t  u~ = -2\r\n",
        "#  s = 3\t  s~ = -3\r\n",
        "#  c = 4\t  c~ = -4\r\n",
        "#  b = 5\t  b~ = -5\r\n",
        "#  t = 6\t  t~ = -6\r\n",
        "#\r\n",
        "#  LEPTONS        ANTILEPTONS\r\n",
        "#  e-  = 11\t  e+  = -11\r\n",
        "#  ve  = 12\t  ve~ = -12\r\n",
        "#  mu- = 13\t  mu+ = -13\r\n",
        "#  vu  = 14\t  vu~ = -14\r\n",
        "#  ta- = 15\t  ta+ = -15\r\n",
        "#  vt  = 16\t  vt~ = -16\r\n",
        "#\r\n",
        "#  BOSONS\r\n",
        "#  g  =  21\r\n",
        "#  a  =  22\r\n",
        "#  z  =  23\r\n",
        "#  w+ =  24\r\n",
        "#  w- = -24\r\n",
        "#\r\n",
        "## END OF TABLE "
      ],
      "execution_count": 18,
      "outputs": []
    },
    {
      "cell_type": "code",
      "metadata": {
        "id": "tEtvNkND6-I-"
      },
      "source": [
        ""
      ],
      "execution_count": null,
      "outputs": []
    }
  ]
}