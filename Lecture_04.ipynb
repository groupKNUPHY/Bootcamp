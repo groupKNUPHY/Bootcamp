{
  "nbformat": 4,
  "nbformat_minor": 0,
  "metadata": {
    "colab": {
      "name": "Lecture_04.ipynb",
      "provenance": [],
      "collapsed_sections": []
    },
    "kernelspec": {
      "name": "python3",
      "display_name": "Python 3"
    }
  },
  "cells": [
    {
      "cell_type": "code",
      "metadata": {
        "colab": {
          "base_uri": "https://localhost:8080/"
        },
        "id": "--6_Pgjh9VhL",
        "outputId": "00bdee89-774a-452d-9b26-a3dae57efbb0"
      },
      "source": [
        "!pip install uproot3\n",
        "!pip install uproot_methods\n",
        "!pip install mplhep"
      ],
      "execution_count": 1,
      "outputs": [
        {
          "output_type": "stream",
          "text": [
            "Requirement already satisfied: uproot3 in /usr/local/lib/python3.7/dist-packages (3.14.4)\n",
            "Requirement already satisfied: uproot3-methods in /usr/local/lib/python3.7/dist-packages (from uproot3) (0.10.1)\n",
            "Requirement already satisfied: numpy>=1.13.1 in /usr/local/lib/python3.7/dist-packages (from uproot3) (1.19.5)\n",
            "Requirement already satisfied: awkward0 in /usr/local/lib/python3.7/dist-packages (from uproot3) (0.15.5)\n",
            "Requirement already satisfied: cachetools in /usr/local/lib/python3.7/dist-packages (from uproot3) (4.2.1)\n",
            "Requirement already satisfied: uproot_methods in /usr/local/lib/python3.7/dist-packages (0.9.2)\n",
            "Requirement already satisfied: awkward<1.0.0 in /usr/local/lib/python3.7/dist-packages (from uproot_methods) (0.14.0)\n",
            "Requirement already satisfied: numpy>=1.13.1 in /usr/local/lib/python3.7/dist-packages (from uproot_methods) (1.19.5)\n",
            "Requirement already satisfied: mplhep in /usr/local/lib/python3.7/dist-packages (0.2.18)\n",
            "Requirement already satisfied: requests~=2.21 in /usr/local/lib/python3.7/dist-packages (from mplhep) (2.23.0)\n",
            "Requirement already satisfied: scipy>=1.1.0 in /usr/local/lib/python3.7/dist-packages (from mplhep) (1.4.1)\n",
            "Requirement already satisfied: matplotlib>=3.1 in /usr/local/lib/python3.7/dist-packages (from mplhep) (3.2.2)\n",
            "Requirement already satisfied: numpy>=1.16.0 in /usr/local/lib/python3.7/dist-packages (from mplhep) (1.19.5)\n",
            "Requirement already satisfied: packaging in /usr/local/lib/python3.7/dist-packages (from mplhep) (20.9)\n",
            "Requirement already satisfied: certifi>=2017.4.17 in /usr/local/lib/python3.7/dist-packages (from requests~=2.21->mplhep) (2020.12.5)\n",
            "Requirement already satisfied: idna<3,>=2.5 in /usr/local/lib/python3.7/dist-packages (from requests~=2.21->mplhep) (2.10)\n",
            "Requirement already satisfied: urllib3!=1.25.0,!=1.25.1,<1.26,>=1.21.1 in /usr/local/lib/python3.7/dist-packages (from requests~=2.21->mplhep) (1.24.3)\n",
            "Requirement already satisfied: chardet<4,>=3.0.2 in /usr/local/lib/python3.7/dist-packages (from requests~=2.21->mplhep) (3.0.4)\n",
            "Requirement already satisfied: cycler>=0.10 in /usr/local/lib/python3.7/dist-packages (from matplotlib>=3.1->mplhep) (0.10.0)\n",
            "Requirement already satisfied: pyparsing!=2.0.4,!=2.1.2,!=2.1.6,>=2.0.1 in /usr/local/lib/python3.7/dist-packages (from matplotlib>=3.1->mplhep) (2.4.7)\n",
            "Requirement already satisfied: kiwisolver>=1.0.1 in /usr/local/lib/python3.7/dist-packages (from matplotlib>=3.1->mplhep) (1.3.1)\n",
            "Requirement already satisfied: python-dateutil>=2.1 in /usr/local/lib/python3.7/dist-packages (from matplotlib>=3.1->mplhep) (2.8.1)\n",
            "Requirement already satisfied: six in /usr/local/lib/python3.7/dist-packages (from cycler>=0.10->matplotlib>=3.1->mplhep) (1.15.0)\n"
          ],
          "name": "stdout"
        }
      ]
    },
    {
      "cell_type": "code",
      "metadata": {
        "colab": {
          "base_uri": "https://localhost:8080/"
        },
        "id": "A4UuxMwA9aRF",
        "outputId": "550c9c53-ee20-4b1d-b010-52d777952e6e"
      },
      "source": [
        "from google.colab import drive\n",
        "\n",
        "drive.mount('/content/drive')"
      ],
      "execution_count": 2,
      "outputs": [
        {
          "output_type": "stream",
          "text": [
            "Drive already mounted at /content/drive; to attempt to forcibly remount, call drive.mount(\"/content/drive\", force_remount=True).\n"
          ],
          "name": "stdout"
        }
      ]
    },
    {
      "cell_type": "code",
      "metadata": {
        "id": "NtU5Ver59l27"
      },
      "source": [
        "import uproot3 as ROOT\n",
        "import uproot_methods as ROOT_methods\n",
        "import numpy as np\n",
        "import matplotlib.pyplot as plt\n",
        "from matplotlib import rc\n",
        "from matplotlib import font_manager\n",
        "import mplhep as hep\n"
      ],
      "execution_count": 3,
      "outputs": []
    },
    {
      "cell_type": "code",
      "metadata": {
        "colab": {
          "base_uri": "https://localhost:8080/"
        },
        "id": "qmfAta8a4AIW",
        "outputId": "5b4ce016-1b2f-4ec8-e725-db0de842cfea"
      },
      "source": [
        "!ls drive/MyDrive/Event_Sample/"
      ],
      "execution_count": 4,
      "outputs": [
        {
          "output_type": "stream",
          "text": [
            "BKG_Drellyan.root  DM_10GeV_scalar_d.root  pow_delph_nlo.root\n"
          ],
          "name": "stdout"
        }
      ]
    },
    {
      "cell_type": "markdown",
      "metadata": {
        "id": "FFZfD5QahYow"
      },
      "source": [
        "이번 시간에는 Transverse mass 재건을 해보도록 합시다.\n",
        "\n",
        "\n",
        "코드 실행에 앞서 검출기 시뮬레이션이 완료된 경입자를 하나 이상 포함하는 사건 샘플을 준비해주세요."
      ]
    },
    {
      "cell_type": "code",
      "metadata": {
        "id": "SauQOCVl9rxL"
      },
      "source": [
        "# TTree를 읽어옵니다\n",
        "\n",
        "tree = ROOT.open(\"/content/drive/MyDrive/Event_Sample/pow_delph_nlo.root\")[\"Delphes\"]"
      ],
      "execution_count": 5,
      "outputs": []
    },
    {
      "cell_type": "code",
      "metadata": {
        "id": "-cwTDqtHuPmI"
      },
      "source": [
        "# 전자와 MET의 pt, eta, phi를 받아옵니다.\n",
        "# 이번시간에는 로렌츠 벡터를 활용한 방법이 아닌 보편적 방법으로 실습을 진행합니다.\n",
        "# eta는 다음 계산에서 필요없지만, 로렌츠 벡터를 활용하려면 필요합니다.\n",
        "\n",
        "elec_pt = tree[\"Electron.PT\"].array()\n",
        "elec_eta = tree[\"Electron.Eta\"].array()\n",
        "elec_phi = tree[\"Electron.Phi\"].array()\n",
        "\n",
        "met_pt = tree[\"MissingET.MET\"].array()\n",
        "met_eta = tree[\"MissingET.Eta\"].array()\n",
        "met_phi = tree[\"MissingET.Phi\"].array()"
      ],
      "execution_count": 6,
      "outputs": []
    },
    {
      "cell_type": "code",
      "metadata": {
        "id": "TaK8JbmYXb_R"
      },
      "source": [
        "# 만약 생성과정중 뮤온이 있다면 뮤온도 해볼까요?\n",
        "\n",
        "muon_pt = tree[\"Muon.PT\"].array()\n",
        "muon_eta = tree[\"Muon.Eta\"].array()\n",
        "muon_phi = tree[\"Muon.Phi\"].array()"
      ],
      "execution_count": 7,
      "outputs": []
    },
    {
      "cell_type": "code",
      "metadata": {
        "id": "D1Ih5CELVwCT"
      },
      "source": [
        "# met를 평평하게 해줍니다.\n",
        "met_pt = met_pt.flatten()\n",
        "met_phi = met_phi.flatten()"
      ],
      "execution_count": 8,
      "outputs": []
    },
    {
      "cell_type": "code",
      "metadata": {
        "id": "e6_SGdSsuY7A",
        "colab": {
          "base_uri": "https://localhost:8080/"
        },
        "outputId": "69c5aa62-c418-4df9-c4e0-6964a1c8a90a"
      },
      "source": [
        "# Transverse mass를 계산합니다. 두 입자계에서의 공식은 위키피디아에 잘 설명되어 있습니다.\n",
        "\n",
        "# 빈 배열을 설정하고\n",
        "tvmass_elec = []\n",
        "tvmass_muon = []\n",
        "\n",
        "# for 문을 통해 Leading Electron과 MET 사이의 MT를 계산해줍니다.\n",
        "for i in range(len(elec_pt)):\n",
        "  if elec_pt.counts[i] > 0:\n",
        "    tvmass_elec.append(np.sqrt(2*elec_pt[i,0]*met_pt[i]*(1. - np.cos(elec_phi[i,0]-met_phi[i]))))\n",
        "  if muon_pt.counts[i] > 0:\n",
        "    tvmass_muon.append(np.sqrt(2*muon_pt[i,0]*met_pt[i]*(1. - np.cos(muon_phi[i,0]-met_phi[i]))))\n",
        "\n",
        "\n",
        "print(len(tvmass_elec))\n",
        "print(len(tvmass_muon))"
      ],
      "execution_count": 9,
      "outputs": [
        {
          "output_type": "stream",
          "text": [
            "4633\n",
            "5725\n"
          ],
          "name": "stdout"
        }
      ]
    },
    {
      "cell_type": "code",
      "metadata": {
        "colab": {
          "base_uri": "https://localhost:8080/",
          "height": 283
        },
        "id": "ukS1f1jP5FLP",
        "outputId": "9ecb3b3b-590a-4086-d9e1-7e8b2a57d788"
      },
      "source": [
        "## 뽑아온 친구들로 MT에 대한 히스토그람을 작성합시다.\n",
        "\n",
        "plt.hist(tvmass_elec,bins=150,color='blue',histtype='step',label = 'electron channel')\n",
        "plt.hist(tvmass_muon,bins=150,color='red',histtype='step', label = 'muon channel')\n",
        "plt.xlim(0,300)\n",
        "plt.xlabel(\"M$_{T}$ [GeV]\")\n",
        "plt.ylabel(\"Events\")\n",
        "plt.legend()\n",
        "plt.show()"
      ],
      "execution_count": 12,
      "outputs": [
        {
          "output_type": "display_data",
          "data": {
            "image/png": "[encoded data removed]",
            "text/plain": [
              "<Figure size 432x288 with 1 Axes>"
            ]
          },
          "metadata": {
            "tags": [],
            "needs_background": "light"
          }
        }
      ]
    },
    {
      "cell_type": "code",
      "metadata": {
        "id": "7Ipa9Oil5Gan"
      },
      "source": [
        "## HOMEWORK\n",
        "# Q1. 이 Transverse mass 분포의 정상부분을 무엇이라고 하는지 알아보세요.\n",
        "\n",
        "\n"
      ],
      "execution_count": 14,
      "outputs": []
    },
    {
      "cell_type": "code",
      "metadata": {
        "id": "6XSQOZhB7Kbn"
      },
      "source": [
        "# Q2. 전자와 뮤온배열에서 i번째의 0번째를 뽑아오는것은 왜 그럴까요?\n",
        "\n"
      ],
      "execution_count": 15,
      "outputs": []
    },
    {
      "cell_type": "code",
      "metadata": {
        "id": "TX912EXQbR9Q"
      },
      "source": [
        "# Q3. 저의 결과는 아마 여러분의 결과와 다를 것입니다. 왜 그런지 자유롭게 생각해보세요.\n"
      ],
      "execution_count": 16,
      "outputs": []
    },
    {
      "cell_type": "code",
      "metadata": {
        "id": "3kYg5AJSi1TI"
      },
      "source": [
        "# Q4. 이제 여러분들은 입자물리학실험에서 W 보존을 식별하고 찾아낼 수 있습니다. 이 분석 결과를 CMS 혹은 ATLAS의 결과와 비교해보세요.\n"
      ],
      "execution_count": 17,
      "outputs": []
    }
  ]
}